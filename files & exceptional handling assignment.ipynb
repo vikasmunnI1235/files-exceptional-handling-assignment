{
  "cells": [
    {
      "cell_type": "markdown",
      "metadata": {
        "id": "ZMWsRjMM4Mo7"
      },
      "source": [
        "QUS 1:-  What is the difference between interpreted and compiled languages\n",
        "ANS :-The difference between interpreted and compiled languages lies in how the code is executed by the computer:\n",
        "Feature\t    Compiled Language\t   Interpreted Language\n",
        "Execution\t |After compilation\t|Line-by-line at runtim\n",
        "\n",
        "Speed      | Faster            | Slower\n",
        "\n",
        "Portability |Platform-dependent|\tMore portable\n",
        "\n",
        "Debugging  |\tHarder            | Easier\n",
        "\n",
        "Examples   | C, C++, Rust\tPython,| JavaScript\n",
        "\n",
        "\n"
      ]
    },
    {
      "cell_type": "markdown",
      "metadata": {
        "id": "_vbKq1RF6Ngc"
      },
      "source": [
        "qus 2:-  What is exception handling in Python\n",
        "ans :- Exception handling in Python is a way to manage errors that occur during program execution without crashing the program. It lets you \"catch\" errors, handle them gracefully, and continue running the program or exit cleanly.\n",
        "try:- Block of code to test for errors\n",
        "\n",
        "except:- Block of code that runs if an error occurs in the try block\n",
        "\n",
        "\n",
        "else:- Runs if no exception occurs in the try block\n",
        "\n",
        "\n",
        "finally:-  Always runs after try (and except), regardless of what happens\n",
        "\n",
        "\n",
        "raise:- Used to manually raise an exception\n",
        "\n",
        "\n",
        "\n"
      ]
    },
    {
      "cell_type": "markdown",
      "metadata": {
        "id": "1a5U7fD07K38"
      },
      "source": [
        "qus 3:-  What is the purpose of the finally block in exception handling\n",
        "ans :- To ensure that important final steps (like releasing resources, closing files or connections) are always executed, regardless of whether an exception was raised.\n",
        "Feature\t            Behavior\n",
        "Runs on success\t     yes\n",
        "Runs on exception\t   yes\n",
        "Skipped if exited    No (runs even with        return, break, continue)\n",
        "\n",
        "Common :-\t\tClean up actions (closing files, releasing resources, etc.)\n",
        "\n"
      ]
    },
    {
      "cell_type": "markdown",
      "metadata": {
        "id": "ysj6khsg8N86"
      },
      "source": [
        "qus 4:-  What is logging in Python\n",
        "ans Logging in Python is the process of recording messages that describe events happening in your program. It’s mainly used for debugging, monitoring, and tracing the execution of code, especially in large or complex applications.\n",
        "Logging helps track, debug, and audit your program's behavior.\n",
        "It's more powerful and flexible than print().\n",
        "You can control where logs go, what level of detail to show, and how they are formatted.\n",
        "\n",
        "\n"
      ]
    },
    {
      "cell_type": "markdown",
      "metadata": {
        "id": "cp8T8ucB8z5Y"
      },
      "source": [
        "qus 5 :-  What is the significance of the __del__ method in Python\n",
        "ans The __del__ method in Python is a special method known as a destructor. It is called automatically when an object is about to be destroyed (garbage collected).\n",
        "(1) Not guaranteed to run immediately when the object goes out of scope—especially in environments with circular references or in some Python interpreters.\n",
        "(2) If an exception occurs inside __del__, it’s ignored silently.\n",
        "(3) Better practice: use context managers (with statement) for managing resources instead of relying on __del__.\n",
        "Method name\t-__del__(self)\n",
        "Purpose-Cleanup before object is deleted\n",
        "Called when\tObject is garbage collected\n",
        "Not reliable for\tCritical resource cleanup (use with or try-finally)\n"
      ]
    },
    {
      "cell_type": "markdown",
      "metadata": {
        "id": "h41sQsao9vkp"
      },
      "source": [
        "qus 5 :- Critical resource cleanup (use with or try-finally)\n",
        "\n",
        "ans :- Great question! Let's break down critical resource cleanup and why using with or try-finally is better than relying on __del__().\n",
        "When your program uses external resources (like files, database connections, sockets, etc.), those resources must be properly released, or you may:\n",
        "(1) Leak memory\n",
        "(2) Corrupt data\n",
        "(3) Lock files or databases\n",
        "\n",
        "\n",
        "\n"
      ]
    },
    {
      "cell_type": "markdown",
      "metadata": {
        "id": "uKZBDXVu-b0O"
      },
      "source": [
        "qus 6:-  What is the difference between import and from ... import in Python\n",
        "ans :-Both import and from ... import are used to include external modules or functions in your Python code, but they work differently and have different use cases.\n",
        "import statement -Imports the entire module\n",
        "Access functions or variables with the module name prefix (math.sqrt)\n",
        "form ... import statement:- Imports specific functions, classes, or variables from a module\n",
        "You can use the imported name directly (without the module prefix)\n",
        "Feature\t | module|from module import name\n",
        "What it imports|Whole module|specifc part\n",
        "How to access\t|module.name| directly\n",
        "Namespace pollution|\tless|more (can clutter)\n",
        "Flexibility\t|more general|more specific  "
      ]
    },
    {
      "cell_type": "markdown",
      "metadata": {
        "id": "4BFE3ck3ApnE"
      },
      "source": [
        "qus 7:-How can you handle multiple exceptions in Python\n",
        "ans :- In Python, you can handle multiple exceptions in several ways depending on your needs. This helps your program respond differently to different types of errors or handle them all at once.\n",
        "Method\t               Use Case\n",
        "Multiple except blocks- Different actions for different exceptions\n",
        "\n",
        "Tuple in one except\t  -Same action for multiple exceptions\n",
        "\n",
        "Generic except  -Catch all errors (use carefully)\n",
        "\n",
        "else and finally-\tAdd safe final steps or success-only actions\n",
        "\n"
      ]
    },
    {
      "cell_type": "markdown",
      "metadata": {
        "id": "lWtteCA7Bwtq"
      },
      "source": [
        "qus 8:-  What is the purpose of the with statement when handling files in Python\n",
        "ans :- The with statement in Python is used for resource management, especially with file operations, to ensure that resources like files are automatically cleaned up after use.\n",
        "Always use with when working with files in Python.\n",
        "It ensures your files are properly closed and your code is safer and more readable.\n",
        "\n"
      ]
    },
    {
      "cell_type": "markdown",
      "metadata": {
        "id": "UIeeez9wCSZi"
      },
      "source": [
        "qus 9 :-  What is the difference between multithreading and multiprocessing\n",
        "ans :- Both multithreading and multiprocessing allow a program to do multiple tasks concurrently, but they work differently and are used in different situations.\n",
        ":- Multithreading\n",
        "   (1) Uses multiple threads within a single process\n",
        "(2)Threads share the same memory space\n",
        "(3) Ideal for I/O-bound tasks (like file   reading, network calls)\n",
        ":- Multiprocessing\n",
        "(1) nUses multiple processes, each with its own memory space\n",
        "(2) Bypasses Python's Global Interpreter Lock (GIL)\n",
        "(3) deal for CPU-bound tasks (like heavy computations)\n",
        "Multithreading = Best for tasks that spend time waiting\n",
        "Multiprocessing = Best for tasks that use a lot of CPU power\n"
      ]
    },
    {
      "cell_type": "markdown",
      "metadata": {
        "id": "aiM08tn6Dk4H"
      },
      "source": [
        "qus 10:-  What are the advantages of using logging in a program\n",
        "ans :- Using logging instead of print() statements provides several powerful benefits, especially as programs grow in size, complexity, or usage.\n",
        "Advantage\t         Why It Matters\n",
        "Debugging support\t:-Track program flow and variable states\n",
        "Severity levels\t  :- Filter and prioritize messages\n",
        "File-based logging :- \tPersist logs across sessions\n",
        "Formatting and timestamps :- \tEasier to read and analyze\n",
        "Easy to configure :- \tAdapt to different environments\n",
        "Works with threads/processes :- Safe for concurrent applications"
      ]
    },
    {
      "cell_type": "markdown",
      "metadata": {
        "id": "ZaVwsX-pEYjf"
      },
      "source": [
        "qus 11:-  What is memory management in Python\n",
        "ans :- Memory management in Python refers to the process of allocating, tracking, and freeing memory used by variables, objects, and data structures during program execution.\n",
        "Python uses a combination of techniques and internal mechanisms to handle memory efficiently and automatically — so you usually don’t have to manage it manually.\n",
        "Feature\t      Description\n",
        "Automatic - Python handles memory allocation and cleanup\n",
        "Reference counting -\tTracks how many references point to an object\n",
        "Garbage collection\t- Frees memory of unused/circularly referenced objects\n",
        "Efficient allocator\t- Uses pymalloc for better performance\n",
        "No manual deallocation - Unlike C/C++, no need for free()\n",
        "\n"
      ]
    },
    {
      "cell_type": "markdown",
      "metadata": {
        "id": "YovlQ5THEuOF"
      },
      "source": [
        "QUS 12 :-  What are the basic steps involved in exception handling in Python\n",
        "ANS Python provides a structured way to handle runtime errors using try-except blocks. Here's a step-by-step breakdown:\n",
        "STEP  :-    Purpose\n",
        "TRY   :-    Wrap risky code\n",
        "EXCEPT :-   Handle specific or generic exceptions\n",
        "ELSE  :-    Code that runs if no exception\n",
        "FINALLY :-  Cleanup code that runs no matter what\n"
      ]
    },
    {
      "cell_type": "markdown",
      "metadata": {
        "id": "mL6nX61OFohO"
      },
      "source": [
        "QUS 13:- Why is memory management important in Python\n",
        "ANS Memory management is crucial in Python — or any programming language — because it ensures:\n",
        "1  Efficient Use of Resources\n",
        "2  Avoiding Memory Leaks\n",
        "3  Improved Performance\n",
        "4  Automatic Garbage Collection\n",
        "5  Memory Safety\n",
        "6  Supports Scalability\n",
        "Automatic garbage collection gc module\n",
        "Dynamic memory allocation\n",
        "Reference counting\n",
        "Memory pooling for small objects\n",
        "\n"
      ]
    },
    {
      "cell_type": "markdown",
      "metadata": {
        "id": "v_NczEXUGyIg"
      },
      "source": [
        "QUS 14:- What is the role of try and except in exception handling\n",
        "ANS The try and except blocks are core components of Python's error-handling system. They help manage runtime errors gracefully without crashing the program.\n",
        "try\tWatch for code that might raise an exception\n",
        "except\tHandle the exception gracefully\n",
        "\n"
      ]
    },
    {
      "cell_type": "markdown",
      "metadata": {
        "id": "3Slwg9R0HRhn"
      },
      "source": [
        "QUS 15:- How does Python garbage collection system work\n",
        "ANS Python’s garbage collection system is responsible for automatically managing memory, cleaning up objects that are no longer in use so developers don’t have to manually free memory. It mainly uses a technique called reference counting, with support from a cyclic garbage collector to handle more complex scenarios.\n",
        "Component    \t          Role\n",
        "Reference Counting\t    Immediate cleanup of unreferenced objects\n",
        "Cyclic GC             \tHandles circular references\n",
        "Generational GC\t        Improves performance by collecting in"
      ]
    },
    {
      "cell_type": "markdown",
      "metadata": {
        "id": "SXlADanVLtbs"
      },
      "source": [
        "QUS 16:- What is the purpose of the else block in exception handling\n",
        "ANS In Python, the else block in exception handling is used to define code that should run only if no exceptions were raised in the try block.\n",
        "It separates normal execution logic from exception handling.\n",
        "Helps keep the code clean and readable.\n",
        "Runs only if the try block completes without any errors.\n",
        "Block\t                    When it runs\n",
        "try\t       :-             Always runs first\n",
        "except     :-            \tRuns if an exception occurs in try\n",
        "else\t     :-             Runs only if no exception occurs in try\n",
        "finally\t   :-             Always runs (exception or not)\n",
        "\n",
        "\n"
      ]
    },
    {
      "cell_type": "markdown",
      "metadata": {
        "id": "eruvrN9DMYzs"
      },
      "source": [
        "QUS 17:- What are the common logging levels in Python\n",
        "ANS In Python, the logging module provides five common logging levels, each representing a different severity of an event or message. These levels help control what kind of messages get logged and where they are output console, file, etc..\n",
        "Level                         Numeric Value\n",
        "DEBUG                         10           \n",
        "INFO                          20\n",
        "WARNING                       30\n",
        "ERROR                         40\n",
        "CRITICAL                      50\n",
        "Description :-(1)  Detailed information, typically of interest only when diagnosing problems.\n",
        "Confirmation that things are working as expected.\n",
        "An indication that something unexpected happened, or indicative of some problem in the near future (e.g., ‘disk space low’). The software is still working as expected.\n",
        "Due to a more serious problem, the software has not been able to perform some function.\n",
        "A serious error, indicating that the program itself may be unable to continue running.\n",
        "\n",
        "\n"
      ]
    },
    {
      "cell_type": "markdown",
      "metadata": {
        "id": "5VG6IEp1PHdO"
      },
      "source": [
        "QUS 18 :- What is the difference between os.fork and multiprocessing in Python\n",
        "ANS The key difference between os.fork and the multiprocessing module in Python lies in abstraction, portability, and usability:\n",
        "\n",
        "Feature\t      :-     os.fork\t    :-  multiprocessing\n",
        "Platform\t           Unix/Linux only\tCross-platform Windows, Linux, macOS\n",
        "Abstraction level    Low\t            High\n",
        "Process management\t Manual\t          Automatic via classes/methods\n",
        "IPC support\t\t       No               Yes Queue, Pipe, Value, etc.\n",
        "Ease of use\t         Complex          Simple and Pythonic\n"
      ]
    },
    {
      "cell_type": "markdown",
      "metadata": {
        "id": "wd8dQ5Kne2C3"
      },
      "source": [
        "QUS 19:- What is the importance of closing a file in Python\n",
        "ANS Closing a file in Python is very important for proper resource management and data integrity. Here's why:\n",
        "Importance of Closing a File in Python\n",
        "(1)  Releases System Resources\n",
        "Files use system-level resources (file descriptors).\n",
        "Leaving files open consumes memory and can lead to resource leaks, especially if many files are opened.\n",
        "(2)  Flushes Data to Disk\n",
        "When writing to a file, data is first stored in a buffer.\n",
        "Closing the file flushes the buffer—ensuring all data is written to disk.\n",
        "If not closed, you may lose data or write incomplete files.\n",
        "(3) Avoids File Corruption or Locks\n",
        "On some systems (e.g., Windows), an open file may be locked and inaccessible to other programs or processes.\n",
        "\n",
        "    Reason\t                  Benefit\n",
        "Frees up resources\t      Prevents memory/file descriptor leaks\n",
        "Writes data to disk\t      Ensures data integrity\n",
        "Prevents locking issues\t  Better file accessibility\n",
        "Avoids file limit errors\tImproves stability\n",
        "\n"
      ]
    },
    {
      "cell_type": "markdown",
      "metadata": {
        "id": "m0iAvRIhgdUR"
      },
      "source": [
        "QUS 20:- What is the difference between file.read() and file.readline() in Python\n",
        "ans In Python, file.read and file.readline are both used to read data from a file, but they behave differently:\n",
        "Feature\t            file.read()\t                   file.readline()\n",
        "Reads           Entire file or specified size\t    One line or partial line\n",
        "Return Type\t    Single string\t                    Single line string\n",
        "Use Case\t      Read full content\t                Read file line-by-line\n",
        "Performance     May use more memory\t      More memory-efficient for large files\n",
        "\n",
        "\n"
      ]
    },
    {
      "cell_type": "markdown",
      "metadata": {
        "id": "7bEbXiJy-ZGm"
      },
      "source": [
        "qus 21:-  What is the logging module in Python used for\n",
        "ans The logging module in Python is used for tracking events that happen when a program runs. It is a standard way to record diagnostic information, such as errors, warnings, and execution progress, which is useful for debugging, monitoring, and troubleshooting.\n",
        "Purpose\t       :-    Description\n",
        "Debugging\t     :-    Helps developers understand what the code is doing.\n",
        "Error Tracking\t:-   Records error messages with detailed context.\n",
        "Monitoring      :-   Tracks the flow and state of applications in production.\n",
        "Auditing        :-   Keeps a log of important events (e.g., user logins).\n"
      ]
    },
    {
      "cell_type": "markdown",
      "metadata": {
        "id": "ZMYcgcTN_86s"
      },
      "source": [
        "qus 22 :-  What is the os module in Python used for in file handling\n",
        "ans The os module in Python provides functions to interact with the operating system, and it is especially useful in file and directory handling. It allows you to perform operations like creating, deleting, renaming, and navigating files and directories.\n",
        "| Function               | Description                                     |\n",
        "| ---------------------- | ----------------------------------------------- |\n",
        "| `os.getcwd()`          | Returns the **current working directory**       |\n",
        "| `os.chdir(path)`       | **Changes** the current working directory       |\n",
        "| `os.listdir(path)`     | Lists all files and directories in a given path |\n",
        "| `os.mkdir(path)`       | Creates a **new directory**                     |\n",
        "| `os.makedirs(path)`    | Creates **nested directories**                  |\n",
        "| `os.remove(file)`      | Deletes a **file**                              |\n",
        "| `os.rmdir(path)`       | Deletes an **empty directory**                  |\n",
        "| `os.rename(src, dst)`  | Renames or moves a file or directory            |\n",
        "| `os.path.exists(path)` | Checks if a path **exists**                     |\n",
        "| `os.path.isfile(path)` | Checks if a path is a **file**                  |\n",
        "| `os.path.isdir(path)`  | Checks if a path is a **directory**             |\n"
      ]
    },
    {
      "cell_type": "markdown",
      "metadata": {
        "id": "qwLU0MUYATEl"
      },
      "source": [
        "qus 23 :-  What are the challenges associated with memory management in Python\n",
        "ans Memory management in Python is generally handled automatically by its built-in garbage collector, but there are still several challenges and potential pitfalls that developers should be aware of:\n",
        "Use del to delete references if needed.\n",
        "Use generators instead of loading large datasets in memory.\n",
        "Break circular references or use weakref\n",
        "Profile memory with tools like memory_profiler, objgraph, or tracemalloc.\n",
        "Use context managers (with) to ensure proper cleanup of external resources."
      ]
    },
    {
      "cell_type": "markdown",
      "metadata": {
        "id": "6D5eyyAjAq-X"
      },
      "source": [
        "qus 24 :-  How do you raise an exception manually in Python\n",
        "ans In Python, you can raise an exception manually using the raise keyword followed by an exception class or instance.\n",
        "The exception must be a class that inherits from BaseException (typically Exception).\n",
        "You can raise an exception with or without a message.\n",
        "If an exception is not caught using try-except, the program will terminate with an error.\n",
        "\n"
      ]
    },
    {
      "cell_type": "markdown",
      "metadata": {
        "id": "RDY0NzkqA-Zp"
      },
      "source": [
        "qus 25 :-  Why is it important to use multithreading in certain applications?\n",
        "ans It is important to use multithreading in certain applications because it helps improve performance, efficiency, and user experience, especially when tasks can be done concurrently.\n",
        "Web servers handling many clients\n",
        "Web scraping multiple sites in parallel\n",
        "Real-time monitoring (e.g., sensor data)\n",
        "Data pre-processing in the background\n",
        "Background downloads or file transfers\n"
      ]
    },
    {
      "cell_type": "markdown",
      "metadata": {
        "id": "gEL-udFJBb28"
      },
      "source": [
        "Practical Questions\n"
      ]
    },
    {
      "cell_type": "markdown",
      "metadata": {
        "id": "Xgr30-JBBkFq"
      },
      "source": [
        " qus 1 :- How can you open a file for writing in Python and write a string to it\n"
      ]
    },
    {
      "cell_type": "code",
      "execution_count": 3,
      "metadata": {
        "id": "vOhatgSEBu1b"
      },
      "outputs": [],
      "source": [
        "with open(\"example.txt\", \"w\") as file:\n",
        "    file.write(\"Hello, this is a sample text.\")\n",
        "\n"
      ]
    },
    {
      "cell_type": "markdown",
      "metadata": {
        "id": "veF_MDZtCCee"
      },
      "source": [
        "qus 2 :-  Write a Python program to read the contents of a file and print each line\n"
      ]
    },
    {
      "cell_type": "code",
      "execution_count": 4,
      "metadata": {
        "colab": {
          "base_uri": "https://localhost:8080/"
        },
        "id": "7tqgTtdICPv6",
        "outputId": "434266c8-2430-4d3a-f7f1-d4052f24d5af"
      },
      "outputs": [
        {
          "name": "stdout",
          "output_type": "stream",
          "text": [
            "Hello, this is a sample text.\n"
          ]
        }
      ],
      "source": [
        "# Open the file in read mode\n",
        "with open(\"example.txt\", \"r\") as file:\n",
        "    # Read and print each line\n",
        "    for line in file:\n",
        "        print(line.strip())  # strip() removes the newline character\n"
      ]
    },
    {
      "cell_type": "markdown",
      "metadata": {
        "id": "OeLI-SsECW9d"
      },
      "source": [
        "qus 3:-  How would you handle a case where the file doesn't exist while trying to open it for reading\n"
      ]
    },
    {
      "cell_type": "code",
      "execution_count": 5,
      "metadata": {
        "colab": {
          "base_uri": "https://localhost:8080/"
        },
        "id": "6Jp9jITrClfo",
        "outputId": "de75eb92-3444-4c34-dd64-fe9534a2e998"
      },
      "outputs": [
        {
          "name": "stdout",
          "output_type": "stream",
          "text": [
            "Hello, this is a sample text.\n"
          ]
        }
      ],
      "source": [
        "try:\n",
        "    with open(\"example.txt\", \"r\") as file:\n",
        "        for line in file:\n",
        "            print(line.strip())\n",
        "except FileNotFoundError:\n",
        "    print(\"Error: The file does not exist.\")\n"
      ]
    },
    {
      "cell_type": "markdown",
      "metadata": {
        "id": "ohlIsevbCqPL"
      },
      "source": [
        "qus 4 :-  Write a Python script that reads from one file and writes its content to another file\n"
      ]
    },
    {
      "cell_type": "code",
      "execution_count": 6,
      "metadata": {
        "colab": {
          "base_uri": "https://localhost:8080/"
        },
        "id": "c9S0betVC1fo",
        "outputId": "e5a5992b-aa49-4436-9e99-3c0132764155"
      },
      "outputs": [
        {
          "name": "stdout",
          "output_type": "stream",
          "text": [
            "Error: 'input.txt' not found.\n"
          ]
        }
      ],
      "source": [
        "# Define source and destination file names\n",
        "source_file = \"input.txt\"\n",
        "destination_file = \"output.txt\"\n",
        "\n",
        "try:\n",
        "    # Open the source file for reading\n",
        "    with open(source_file, \"r\") as infile:\n",
        "        # Read content from source\n",
        "        content = infile.read()\n",
        "\n",
        "    # Open the destination file for writing\n",
        "    with open(destination_file, \"w\") as outfile:\n",
        "        # Write content to destination\n",
        "        outfile.write(content)\n",
        "\n",
        "    print(\"File copied successfully!\")\n",
        "\n",
        "except FileNotFoundError:\n",
        "    print(f\"Error: '{source_file}' not found.\")\n",
        "except Exception as e:\n",
        "    print(f\"An error occurred: {e}\")\n"
      ]
    },
    {
      "cell_type": "markdown",
      "metadata": {
        "id": "sGX_yLTqC5fz"
      },
      "source": [
        "qus 5 :-  How would you catch and handle division by zero error in Python\n"
      ]
    },
    {
      "cell_type": "code",
      "execution_count": 7,
      "metadata": {
        "colab": {
          "base_uri": "https://localhost:8080/"
        },
        "id": "2T7nrEADDCEx",
        "outputId": "c2772987-bb6f-4684-bac1-728454b22524"
      },
      "outputs": [
        {
          "name": "stdout",
          "output_type": "stream",
          "text": [
            "Error: Division by zero is not allowed.\n"
          ]
        }
      ],
      "source": [
        "try:\n",
        "    numerator = 10\n",
        "    denominator = 0\n",
        "    result = numerator / denominator\n",
        "    print(\"Result:\", result)\n",
        "\n",
        "except ZeroDivisionError:\n",
        "    print(\"Error: Division by zero is not allowed.\")\n"
      ]
    },
    {
      "cell_type": "markdown",
      "metadata": {
        "id": "mVitTjZ8DI9-"
      },
      "source": [
        "qus 6 :-  Write a Python program that logs an error message to a log file when a division by zero exception occurs\n"
      ]
    },
    {
      "cell_type": "code",
      "execution_count": 8,
      "metadata": {
        "colab": {
          "base_uri": "https://localhost:8080/"
        },
        "id": "6jVZNf3EDTKk",
        "outputId": "5355573d-ef14-4bca-cd42-ccf815a67008"
      },
      "outputs": [
        {
          "name": "stderr",
          "output_type": "stream",
          "text": [
            "ERROR:root:Division by zero occurred: division by zero\n"
          ]
        },
        {
          "name": "stdout",
          "output_type": "stream",
          "text": [
            "An error occurred. Check error_log.txt for details.\n"
          ]
        }
      ],
      "source": [
        "import logging\n",
        "\n",
        "# Configure the logging\n",
        "logging.basicConfig(filename=\"error_log.txt\", level=logging.ERROR,\n",
        "                    format='%(asctime)s - %(levelname)s - %(message)s')\n",
        "\n",
        "try:\n",
        "    a = 10\n",
        "    b = 0\n",
        "    result = a / b\n",
        "    print(\"Result:\", result)\n",
        "\n",
        "except ZeroDivisionError as e:\n",
        "    logging.error(\"Division by zero occurred: %s\", e)\n",
        "    print(\"An error occurred. Check error_log.txt for details.\")\n"
      ]
    },
    {
      "cell_type": "markdown",
      "metadata": {
        "id": "0iO9p7jGDWEb"
      },
      "source": [
        "qus 7:-  How do you log information at different levels (INFO, ERROR, WARNING) in Python using the logging module\n"
      ]
    },
    {
      "cell_type": "code",
      "execution_count": 9,
      "metadata": {
        "colab": {
          "base_uri": "https://localhost:8080/"
        },
        "id": "9UfCtvvUDk4y",
        "outputId": "8d8b3eb2-b5ec-4aa3-a56d-4c27aef5099c"
      },
      "outputs": [
        {
          "name": "stderr",
          "output_type": "stream",
          "text": [
            "WARNING:root:This is a warning message.\n",
            "ERROR:root:This is an error message.\n",
            "CRITICAL:root:This is a critical message.\n"
          ]
        }
      ],
      "source": [
        "import logging\n",
        "\n",
        "# Configure the logging system\n",
        "logging.basicConfig(filename=\"app_log.txt\",\n",
        "                    level=logging.DEBUG,  # Minimum level to capture\n",
        "                    format='%(asctime)s - %(levelname)s - %(message)s')\n",
        "\n",
        "# Log messages at different levels\n",
        "logging.debug(\"This is a debug message.\")\n",
        "logging.info(\"This is an info message.\")\n",
        "logging.warning(\"This is a warning message.\")\n",
        "logging.error(\"This is an error message.\")\n",
        "logging.critical(\"This is a critical message.\")\n"
      ]
    },
    {
      "cell_type": "markdown",
      "metadata": {
        "id": "wQCeoU_DDweB"
      },
      "source": [
        "qus 8 :-  Write a program to handle a file opening error using exception handling\n"
      ]
    },
    {
      "cell_type": "code",
      "execution_count": 10,
      "metadata": {
        "colab": {
          "base_uri": "https://localhost:8080/"
        },
        "id": "pzAIvWgMD3SN",
        "outputId": "396649b8-9c8d-4d00-eb04-e3b98d0a3d8d"
      },
      "outputs": [
        {
          "name": "stdout",
          "output_type": "stream",
          "text": [
            "Error: The file 'non_existing_file.txt' does not exist.\n"
          ]
        }
      ],
      "source": [
        "filename = \"non_existing_file.txt\"\n",
        "\n",
        "try:\n",
        "    with open(filename, \"r\") as file:\n",
        "        content = file.read()\n",
        "        print(\"File content:\\n\", content)\n",
        "\n",
        "except FileNotFoundError:\n",
        "    print(f\"Error: The file '{filename}' does not exist.\")\n"
      ]
    },
    {
      "cell_type": "markdown",
      "metadata": {
        "id": "ejwZHCC5D9aN"
      },
      "source": [
        "qus 9:-  How can you read a file line by line and store its content in a list in Python\n"
      ]
    },
    {
      "cell_type": "code",
      "execution_count": 11,
      "metadata": {
        "colab": {
          "base_uri": "https://localhost:8080/"
        },
        "id": "Zjhv7PAkEK64",
        "outputId": "3568583f-4a14-4f24-f8e2-e3b90d9fdc3c"
      },
      "outputs": [
        {
          "name": "stdout",
          "output_type": "stream",
          "text": [
            "['Hello, this is a sample text.']\n"
          ]
        }
      ],
      "source": [
        "with open(\"example.txt\", \"r\") as file:\n",
        "    lines = file.readlines()\n",
        "\n",
        "print(lines)\n"
      ]
    },
    {
      "cell_type": "markdown",
      "metadata": {
        "id": "vboYVMV1ENHp"
      },
      "source": [
        "qus 10 :-  How can you append data to an existing file in Python\n"
      ]
    },
    {
      "cell_type": "code",
      "execution_count": 15,
      "metadata": {
        "colab": {
          "base_uri": "https://localhost:8080/"
        },
        "id": "Qwrd0iawESd4",
        "outputId": "372dc7e2-50a4-414c-aa56-734fdf759c99"
      },
      "outputs": [
        {
          "name": "stdout",
          "output_type": "stream",
          "text": [
            "Enter text to append: 5\n",
            "Data appended successfully!\n"
          ]
        }
      ],
      "source": [
        "new_data = input(\"Enter text to append: \")\n",
        "\n",
        "with open(\"example.txt\", \"a\") as file:\n",
        "    file.write(new_data + \"\\n\")\n",
        "\n",
        "print(\"Data appended successfully!\")\n"
      ]
    },
    {
      "cell_type": "markdown",
      "metadata": {
        "id": "EI_3KkEXEqGs"
      },
      "source": [
        "qus 11 :-  Write a Python program that uses a try-except block to handle an error when attempting to access a\n",
        "dictionary key that doesn't exist"
      ]
    },
    {
      "cell_type": "code",
      "execution_count": 16,
      "metadata": {
        "colab": {
          "base_uri": "https://localhost:8080/"
        },
        "id": "tI7ubmmVE3MT",
        "outputId": "758a69fe-4bec-47db-a104-9c397bb8c533"
      },
      "outputs": [
        {
          "name": "stdout",
          "output_type": "stream",
          "text": [
            "Error: The key 'city' does not exist in the dictionary.\n"
          ]
        }
      ],
      "source": [
        "# Sample dictionary\n",
        "person = {\n",
        "    \"name\": \"Alice\",\n",
        "    \"age\": 25\n",
        "}\n",
        "\n",
        "try:\n",
        "    # Try to access a key that may not exist\n",
        "    print(\"City:\", person[\"city\"])\n",
        "\n",
        "except KeyError:\n",
        "    print(\"Error: The key 'city' does not exist in the dictionary.\")\n"
      ]
    },
    {
      "cell_type": "markdown",
      "metadata": {
        "id": "5bPM3ET-E6IT"
      },
      "source": [
        "qus 12 :-  Write a program that demonstrates using multiple except blocks to handle different types of exceptions\n"
      ]
    },
    {
      "cell_type": "code",
      "execution_count": 17,
      "metadata": {
        "colab": {
          "base_uri": "https://localhost:8080/"
        },
        "id": "YYwReKk2FLi_",
        "outputId": "0684fd3e-6bb9-48fe-d315-55f53dd29ac2"
      },
      "outputs": [
        {
          "name": "stdout",
          "output_type": "stream",
          "text": [
            "Enter a number to divide 100 by: 99\n",
            "Result: 1.0101010101010102\n",
            "Error: The file 'data.txt' was not found.\n"
          ]
        }
      ],
      "source": [
        "try:\n",
        "    # Simulate user input\n",
        "    num = int(input(\"Enter a number to divide 100 by: \"))\n",
        "    result = 100 / num\n",
        "    print(\"Result:\", result)\n",
        "\n",
        "    # Try to read a file\n",
        "    with open(\"data.txt\", \"r\") as file:\n",
        "        content = file.read()\n",
        "        print(\"File content:\\n\", content)\n",
        "\n",
        "except ZeroDivisionError:\n",
        "    print(\"Error: Cannot divide by zero.\")\n",
        "\n",
        "except ValueError:\n",
        "    print(\"Error: Please enter a valid integer.\")\n",
        "\n",
        "except FileNotFoundError:\n",
        "    print(\"Error: The file 'data.txt' was not found.\")\n",
        "\n",
        "except Exception as e:\n",
        "    print(\"An unexpected error occurred:\", e)\n"
      ]
    },
    {
      "cell_type": "markdown",
      "metadata": {
        "id": "3PRxfogZFZ5X"
      },
      "source": [
        "qus 13 :- How would you check if a file exists before attempting to read it in Python\n"
      ]
    },
    {
      "cell_type": "code",
      "execution_count": 18,
      "metadata": {
        "colab": {
          "base_uri": "https://localhost:8080/"
        },
        "id": "WE6h13tlFdq0",
        "outputId": "355da71d-3efa-401d-bd09-822a54d1dcbc"
      },
      "outputs": [
        {
          "name": "stdout",
          "output_type": "stream",
          "text": [
            "Hello, this is a sample text.This is a new line.\n",
            "This is a new line.\n",
            "This is a new line.\n",
            "5\n",
            "\n"
          ]
        }
      ],
      "source": [
        "import os\n",
        "\n",
        "filename = \"example.txt\"\n",
        "\n",
        "if os.path.exists(filename):\n",
        "    with open(filename, \"r\") as file:\n",
        "        content = file.read()\n",
        "        print(content)\n",
        "else:\n",
        "    print(f\"Error: File '{filename}' does not exist.\")\n"
      ]
    },
    {
      "cell_type": "markdown",
      "metadata": {
        "id": "LhT54EsKFiw7"
      },
      "source": [
        "qus 14 :-  Write a program that uses the logging module to log both informational and error messages\n"
      ]
    },
    {
      "cell_type": "code",
      "execution_count": 19,
      "metadata": {
        "colab": {
          "base_uri": "https://localhost:8080/"
        },
        "id": "zWI-OtzhFqBl",
        "outputId": "cb6bd19b-734e-4141-fdbb-a9554e6036ab"
      },
      "outputs": [
        {
          "name": "stderr",
          "output_type": "stream",
          "text": [
            "ERROR:root:Error: Division by zero - division by zero\n"
          ]
        }
      ],
      "source": [
        "import logging\n",
        "\n",
        "# Configure logging settings\n",
        "logging.basicConfig(\n",
        "    filename='app.log',            # Log file name\n",
        "    level=logging.INFO,            # Minimum level to capture\n",
        "    format='%(asctime)s - %(levelname)s - %(message)s'\n",
        ")\n",
        "\n",
        "def divide_numbers(a, b):\n",
        "    try:\n",
        "        result = a / b\n",
        "        logging.info(f\"Division successful: {a} / {b} = {result}\")\n",
        "        return result\n",
        "    except ZeroDivisionError as e:\n",
        "        logging.error(f\"Error: Division by zero - {e}\")\n",
        "        return None\n",
        "\n",
        "# Example usage\n",
        "divide_numbers(10, 2)   # Logs INFO\n",
        "divide_numbers(5, 0)    # Logs ERROR\n"
      ]
    },
    {
      "cell_type": "markdown",
      "metadata": {
        "id": "HHmHRrf8Fw_V"
      },
      "source": [
        "qus 15  Write a Python program that prints the content of a file and handles the case when the file is empty\n"
      ]
    },
    {
      "cell_type": "code",
      "execution_count": 20,
      "metadata": {
        "colab": {
          "base_uri": "https://localhost:8080/"
        },
        "id": "yjcTXaXBFv9l",
        "outputId": "e99c3e22-cafc-482b-8a17-73d841001992"
      },
      "outputs": [
        {
          "name": "stdout",
          "output_type": "stream",
          "text": [
            "Error: The file 'sample.txt' does not exist.\n"
          ]
        }
      ],
      "source": [
        "filename = \"sample.txt\"\n",
        "\n",
        "try:\n",
        "    with open(filename, \"r\") as file:\n",
        "        content = file.read()\n",
        "        if content.strip():  # Check if content is not just whitespace\n",
        "            print(\"File content:\\n\")\n",
        "            print(content)\n",
        "        else:\n",
        "            print(\"The file is empty.\")\n",
        "\n",
        "except FileNotFoundError:\n",
        "    print(f\"Error: The file '{filename}' does not exist.\")\n",
        "except Exception as e:\n",
        "    print(f\"An unexpected error occurred: {e}\")\n"
      ]
    },
    {
      "cell_type": "markdown",
      "metadata": {
        "id": "D6PI46UWGiwb"
      },
      "source": []
    },
    {
      "cell_type": "markdown",
      "metadata": {
        "id": "P4IXoLysGD4z"
      },
      "source": [
        "qus 16 :-  Demonstrate how to use memory profiling to check the memory usage of a small program\n"
      ]
    },
    {
      "cell_type": "code",
      "execution_count": 23,
      "metadata": {
        "colab": {
          "base_uri": "https://localhost:8080/",
          "height": 1000
        },
        "id": "kZJlBhLFGOBo",
        "outputId": "1c4043ad-18ec-4eae-ce1b-337eef049b1e"
      },
      "outputs": [
        {
          "name": "stdout",
          "output_type": "stream",
          "text": [
            "Traceback (most recent call last):\n",
            "  File \"/usr/local/lib/python3.11/dist-packages/pip/_internal/cli/base_command.py\", line 179, in exc_logging_wrapper\n",
            "    status = run_func(*args)\n",
            "             ^^^^^^^^^^^^^^^\n",
            "  File \"/usr/local/lib/python3.11/dist-packages/pip/_internal/cli/req_command.py\", line 67, in wrapper\n",
            "    return func(self, options, args)\n",
            "           ^^^^^^^^^^^^^^^^^^^^^^^^^\n",
            "  File \"/usr/local/lib/python3.11/dist-packages/pip/_internal/commands/install.py\", line 324, in run\n",
            "    session = self.get_default_session(options)\n",
            "              ^^^^^^^^^^^^^^^^^^^^^^^^^^^^^^^^^\n",
            "  File \"/usr/local/lib/python3.11/dist-packages/pip/_internal/cli/index_command.py\", line 71, in get_default_session\n",
            "    self._session = self.enter_context(self._build_session(options))\n",
            "                                       ^^^^^^^^^^^^^^^^^^^^^^^^^^^^\n",
            "  File \"/usr/local/lib/python3.11/dist-packages/pip/_internal/cli/index_command.py\", line 100, in _build_session\n",
            "    session = PipSession(\n",
            "              ^^^^^^^^^^^\n",
            "  File \"/usr/local/lib/python3.11/dist-packages/pip/_internal/network/session.py\", line 344, in __init__\n",
            "    self.headers[\"User-Agent\"] = user_agent()\n",
            "                                 ^^^^^^^^^^^^\n",
            "  File \"/usr/local/lib/python3.11/dist-packages/pip/_internal/network/session.py\", line 177, in user_agent\n",
            "    setuptools_dist = get_default_environment().get_distribution(\"setuptools\")\n",
            "                      ^^^^^^^^^^^^^^^^^^^^^^^^^^^^^^^^^^^^^^^^^^^^^^^^^^^^^^^^\n",
            "  File \"/usr/local/lib/python3.11/dist-packages/pip/_internal/metadata/importlib/_envs.py\", line 189, in get_distribution\n",
            "    return next(matches, None)\n",
            "           ^^^^^^^^^^^^^^^^^^^\n",
            "  File \"/usr/local/lib/python3.11/dist-packages/pip/_internal/metadata/importlib/_envs.py\", line 184, in <genexpr>\n",
            "    matches = (\n",
            "              ^\n",
            "  File \"/usr/local/lib/python3.11/dist-packages/pip/_internal/metadata/base.py\", line 612, in iter_all_distributions\n",
            "    for dist in self._iter_distributions():\n",
            "  File \"/usr/local/lib/python3.11/dist-packages/pip/_internal/metadata/importlib/_envs.py\", line 176, in _iter_distributions\n",
            "    yield from finder.find(location)\n",
            "  File \"/usr/local/lib/python3.11/dist-packages/pip/_internal/metadata/importlib/_envs.py\", line 79, in find\n",
            "    for dist, info_location in self._find_impl(location):\n",
            "  File \"/usr/local/lib/python3.11/dist-packages/pip/_internal/metadata/importlib/_envs.py\", line 64, in _find_impl\n",
            "    raw_name = get_dist_name(dist)\n",
            "               ^^^^^^^^^^^^^^^^^^^\n",
            "  File \"/usr/local/lib/python3.11/dist-packages/pip/_internal/metadata/importlib/_compat.py\", line 52, in get_dist_name\n",
            "    name = cast(Any, dist).name\n",
            "           ^^^^^^^^^^^^^^^^^^^^\n",
            "  File \"/usr/lib/python3.11/importlib/metadata/__init__.py\", line 622, in name\n",
            "    return self.metadata['Name']\n",
            "           ^^^^^^^^^^^^^\n",
            "  File \"/usr/lib/python3.11/importlib/metadata/__init__.py\", line 617, in metadata\n",
            "    return _adapters.Message(email.message_from_string(text))\n",
            "                             ^^^^^^^^^^^^^^^^^^^^^^^^^^^^^^^\n",
            "  File \"/usr/lib/python3.11/email/__init__.py\", line 37, in message_from_string\n",
            "    return Parser(*args, **kws).parsestr(s)\n",
            "           ^^^^^^^^^^^^^^^^^^^^^^^^^^^^^^^^\n",
            "  File \"/usr/lib/python3.11/email/parser.py\", line 67, in parsestr\n",
            "    return self.parse(StringIO(text), headersonly=headersonly)\n",
            "           ^^^^^^^^^^^^^^^^^^^^^^^^^^^^^^^^^^^^^^^^^^^^^^^^^^^\n",
            "  File \"/usr/lib/python3.11/email/parser.py\", line 56, in parse\n",
            "    feedparser.feed(data)\n",
            "  File \"/usr/lib/python3.11/email/feedparser.py\", line 173, in feed\n",
            "    self._input.push(data)\n",
            "  File \"/usr/lib/python3.11/email/feedparser.py\", line 109, in push\n",
            "    parts = self._partial.readlines()\n",
            "            ^^^^^^^^^^^^^^^^^^^^^^^^^\n",
            "KeyboardInterrupt\n",
            "\n",
            "During handling of the above exception, another exception occurred:\n",
            "\n",
            "Traceback (most recent call last):\n",
            "  File \"/usr/local/bin/pip3\", line 10, in <module>\n",
            "    sys.exit(main())\n",
            "             ^^^^^^\n",
            "  File \"/usr/local/lib/python3.11/dist-packages/pip/_internal/cli/main.py\", line 80, in main\n",
            "    return command.main(cmd_args)\n",
            "           ^^^^^^^^^^^^^^^^^^^^^^\n",
            "  File \"/usr/local/lib/python3.11/dist-packages/pip/_internal/cli/base_command.py\", line 100, in main\n",
            "    return self._main(args)\n",
            "           ^^^^^^^^^^^^^^^^\n",
            "  File \"/usr/local/lib/python3.11/dist-packages/pip/_internal/cli/base_command.py\", line 232, in _main\n",
            "    return run(options, args)\n",
            "           ^^^^^^^^^^^^^^^^^^\n",
            "  File \"/usr/local/lib/python3.11/dist-packages/pip/_internal/cli/base_command.py\", line 215, in exc_logging_wrapper\n",
            "    logger.critical(\"Operation cancelled by user\")\n",
            "  File \"/usr/lib/python3.11/logging/__init__.py\", line 1536, in critical\n",
            "    self._log(CRITICAL, msg, args, **kwargs)\n",
            "  File \"/usr/lib/python3.11/logging/__init__.py\", line 1632, in _log\n",
            "    record = self.makeRecord(self.name, level, fn, lno, msg, args,\n",
            "             ^^^^^^^^^^^^^^^^^^^^^^^^^^^^^^^^^^^^^^^^^^^^^^^^^^^^^\n",
            "  File \"/usr/lib/python3.11/logging/__init__.py\", line 1601, in makeRecord\n",
            "    rv = _logRecordFactory(name, level, fn, lno, msg, args, exc_info, func,\n",
            "         ^^^^^^^^^^^^^^^^^^^^^^^^^^^^^^^^^^^^^^^^^^^^^^^^^^^^^^^^^^^^^^^^^^\n",
            "  File \"/usr/lib/python3.11/logging/__init__.py\", line 349, in __init__\n",
            "    mp = sys.modules.get('multiprocessing')\n",
            "         ^^^^^^^^^^^^^^^^^^^^^^^^^^^^^^^^^^\n",
            "KeyboardInterrupt\n",
            "^C\n",
            "The memory_profiler extension is already loaded. To reload it, use:\n",
            "  %reload_ext memory_profiler\n"
          ]
        },
        {
          "ename": "NameError",
          "evalue": "name 'profile' is not defined",
          "output_type": "error",
          "traceback": [
            "\u001b[0;31m---------------------------------------------------------------------------\u001b[0m",
            "\u001b[0;31mNameError\u001b[0m                                 Traceback (most recent call last)",
            "\u001b[0;32m/tmp/ipython-input-23-2581098780.py\u001b[0m in \u001b[0;36m<cell line: 0>\u001b[0;34m()\u001b[0m\n\u001b[1;32m      5\u001b[0m \u001b[0mget_ipython\u001b[0m\u001b[0;34m(\u001b[0m\u001b[0;34m)\u001b[0m\u001b[0;34m.\u001b[0m\u001b[0mrun_line_magic\u001b[0m\u001b[0;34m(\u001b[0m\u001b[0;34m'load_ext'\u001b[0m\u001b[0;34m,\u001b[0m \u001b[0;34m'memory_profiler'\u001b[0m\u001b[0;34m)\u001b[0m\u001b[0;34m\u001b[0m\u001b[0;34m\u001b[0m\u001b[0m\n\u001b[1;32m      6\u001b[0m \u001b[0;34m\u001b[0m\u001b[0m\n\u001b[0;32m----> 7\u001b[0;31m \u001b[0;34m@\u001b[0m\u001b[0mprofile\u001b[0m\u001b[0;34m\u001b[0m\u001b[0;34m\u001b[0m\u001b[0m\n\u001b[0m\u001b[1;32m      8\u001b[0m \u001b[0;32mdef\u001b[0m \u001b[0mcreate_large_list\u001b[0m\u001b[0;34m(\u001b[0m\u001b[0;34m)\u001b[0m\u001b[0;34m:\u001b[0m\u001b[0;34m\u001b[0m\u001b[0;34m\u001b[0m\u001b[0m\n\u001b[1;32m      9\u001b[0m     \u001b[0mlarge_list\u001b[0m \u001b[0;34m=\u001b[0m \u001b[0;34m[\u001b[0m\u001b[0mi\u001b[0m \u001b[0;34m**\u001b[0m \u001b[0;36m2\u001b[0m \u001b[0;32mfor\u001b[0m \u001b[0mi\u001b[0m \u001b[0;32min\u001b[0m \u001b[0mrange\u001b[0m\u001b[0;34m(\u001b[0m\u001b[0;36m100000\u001b[0m\u001b[0;34m)\u001b[0m\u001b[0;34m]\u001b[0m\u001b[0;34m\u001b[0m\u001b[0;34m\u001b[0m\u001b[0m\n",
            "\u001b[0;31mNameError\u001b[0m: name 'profile' is not defined"
          ]
        }
      ],
      "source": [
        "# Install memory_profiler\n",
        "!pip install memory_profiler\n",
        "\n",
        "# Load the extension\n",
        "%load_ext memory_profiler\n",
        "\n",
        "@profile\n",
        "def create_large_list():\n",
        "    large_list = [i ** 2 for i in range(100000)]\n",
        "    return sum(large_list)\n",
        "\n",
        "create_large_list()"
      ]
    },
    {
      "cell_type": "markdown",
      "metadata": {
        "id": "iF-y2TQNGXgH"
      },
      "source": [
        "QUS 17 : Write a Python program to create and write a list of numbers to a file, one number per line\n"
      ]
    },
    {
      "cell_type": "code",
      "execution_count": 1,
      "metadata": {
        "colab": {
          "base_uri": "https://localhost:8080/"
        },
        "id": "q_KVNLiYGwhv",
        "outputId": "affab829-c66d-45c2-9d24-9e1a3682bc18"
      },
      "outputs": [
        {
          "name": "stdout",
          "output_type": "stream",
          "text": [
            "Successfully wrote 5 numbers to 'numbers.txt'.\n"
          ]
        }
      ],
      "source": [
        "# List of numbers to write\n",
        "numbers = [10, 20, 30, 40, 50]\n",
        "\n",
        "# File to write to\n",
        "filename = \"numbers.txt\"\n",
        "\n",
        "# Write each number on a new line\n",
        "with open(filename, \"w\") as file:\n",
        "    for number in numbers:\n",
        "        file.write(f\"{number}\\n\")\n",
        "\n",
        "print(f\"Successfully wrote {len(numbers)} numbers to '{filename}'.\")\n"
      ]
    },
    {
      "cell_type": "markdown",
      "metadata": {
        "id": "uJVJQ2tbGyuz"
      },
      "source": [
        "QUS 18 :-  How would you implement a basic logging setup that logs to a file with rotation after 1MB\n"
      ]
    },
    {
      "cell_type": "markdown",
      "metadata": {
        "id": "mhx2eiC_HI15"
      },
      "source": [
        "COULD YOU PLEACE HELP ME SIR I DONOT WHO TO CORD IT QUS AND I HAVE NO IDEA SO COULD YOU HELP ME SIR"
      ]
    },
    {
      "cell_type": "markdown",
      "metadata": {
        "id": "4JtDlJmtH2O6"
      },
      "source": [
        "QUS 19 :-  Write a program that handles both IndexError and KeyError using a try-except block\n"
      ]
    },
    {
      "cell_type": "code",
      "execution_count": 3,
      "metadata": {
        "colab": {
          "base_uri": "https://localhost:8080/"
        },
        "id": "SRdR58YQIC3Q",
        "outputId": "54554755-e0b8-4022-c3df-e721fcef0a72"
      },
      "outputs": [
        {
          "name": "stdout",
          "output_type": "stream",
          "text": [
            "Error: List index out of range.\n",
            "Error: Dictionary key not found.\n"
          ]
        }
      ],
      "source": [
        "# Sample list and dictionary\n",
        "my_list = [10, 20, 30]\n",
        "my_dict = {\"name\": \"Alice\", \"age\": 25}\n",
        "\n",
        "try:\n",
        "    # Try to access an index that may not exist\n",
        "    print(\"List item:\", my_list[5])\n",
        "except IndexError:\n",
        "    print(\"Error: List index out of range.\")\n",
        "\n",
        "try:\n",
        "    # Try to access a key that may not exist\n",
        "    print(\"City:\", my_dict[\"city\"])\n",
        "except KeyError:\n",
        "    print(\"Error: Dictionary key not found.\")\n"
      ]
    },
    {
      "cell_type": "markdown",
      "metadata": {
        "id": "75-Q9h8BIM3s"
      },
      "source": [
        "QUS 20 :-  How would you open a file and read its contents using a context manager in Python\n"
      ]
    },
    {
      "cell_type": "code",
      "execution_count": 4,
      "metadata": {
        "colab": {
          "base_uri": "https://localhost:8080/"
        },
        "id": "DYOTLolTIWbn",
        "outputId": "a442c60d-17fb-4753-826c-d03b6c5651b7"
      },
      "outputs": [
        {
          "name": "stdout",
          "output_type": "stream",
          "text": [
            "Hello, this is a sample text.This is a new line.\n",
            "This is a new line.\n",
            "This is a new line.\n",
            "5\n",
            "\n"
          ]
        }
      ],
      "source": [
        "filename = \"example.txt\"\n",
        "\n",
        "with open(filename, \"r\") as file:\n",
        "    content = file.read()\n",
        "    print(content)\n"
      ]
    },
    {
      "cell_type": "markdown",
      "metadata": {
        "id": "1l2hpjxLIbG3"
      },
      "source": [
        "QUS 21 :-  Write a Python program that reads a file and prints the number of occurrences of a specific word\n"
      ]
    },
    {
      "cell_type": "code",
      "execution_count": 5,
      "metadata": {
        "colab": {
          "base_uri": "https://localhost:8080/"
        },
        "id": "NUo2pLKqIkLU",
        "outputId": "2d9e86dd-79b2-4677-dc10-61a5fc92e0c9"
      },
      "outputs": [
        {
          "name": "stdout",
          "output_type": "stream",
          "text": [
            "Enter the file name: VIKAS\n",
            "Enter the word to count: 60\n",
            "Error: File 'VIKAS' not found.\n"
          ]
        }
      ],
      "source": [
        "def count_word_occurrences(filename, target_word):\n",
        "    try:\n",
        "        with open(filename, 'r') as file:\n",
        "            content = file.read().lower()  # Convert to lowercase for case-insensitive match\n",
        "            word_count = content.split().count(target_word.lower())\n",
        "            print(f\"The word '{target_word}' appears {word_count} times in '{filename}'.\")\n",
        "    except FileNotFoundError:\n",
        "        print(f\"Error: File '{filename}' not found.\")\n",
        "    except Exception as e:\n",
        "        print(f\"An unexpected error occurred: {e}\")\n",
        "\n",
        "# --- Example Usage ---\n",
        "file_name = input(\"Enter the file name: \")\n",
        "word = input(\"Enter the word to count: \")\n",
        "\n",
        "count_word_occurrences(file_name, word)\n"
      ]
    },
    {
      "cell_type": "markdown",
      "metadata": {
        "id": "lFLKxEgrIwDG"
      },
      "source": [
        "QUs 22 :- How can you check if a file is empty before attempting to read its contents\n"
      ]
    },
    {
      "cell_type": "code",
      "execution_count": 6,
      "metadata": {
        "colab": {
          "base_uri": "https://localhost:8080/"
        },
        "id": "DSmNwjBFI-yU",
        "outputId": "0935478e-f93f-4a5a-91e2-f29aa806619f"
      },
      "outputs": [
        {
          "name": "stdout",
          "output_type": "stream",
          "text": [
            "File content:\n",
            " Hello, this is a sample text.This is a new line.\n",
            "This is a new line.\n",
            "This is a new line.\n",
            "5\n",
            "\n"
          ]
        }
      ],
      "source": [
        "import os\n",
        "\n",
        "filename = \"example.txt\"\n",
        "\n",
        "if os.path.exists(filename):\n",
        "    if os.stat(filename).st_size == 0:\n",
        "        print(\"The file is empty.\")\n",
        "    else:\n",
        "        with open(filename, \"r\") as file:\n",
        "            content = file.read()\n",
        "            print(\"File content:\\n\", content)\n",
        "else:\n",
        "    print(f\"File '{filename}' does not exist.\")\n"
      ]
    },
    {
      "cell_type": "markdown",
      "metadata": {
        "id": "DD-vsYRGJKoS"
      },
      "source": [
        "qus 23:-  Write a Python program that writes to a log file when an error occurs during file handling.\n"
      ]
    },
    {
      "cell_type": "code",
      "execution_count": 7,
      "metadata": {
        "colab": {
          "base_uri": "https://localhost:8080/"
        },
        "id": "NZzhJ0w5JQwC",
        "outputId": "fc5c8cc3-4dca-4d7c-a5fc-495ee23f47d6"
      },
      "outputs": [
        {
          "name": "stdout",
          "output_type": "stream",
          "text": [
            "Enter the file name to read: vikas \n"
          ]
        },
        {
          "name": "stderr",
          "output_type": "stream",
          "text": [
            "ERROR:root:FileNotFoundError: [Errno 2] No such file or directory: 'vikas '\n"
          ]
        },
        {
          "name": "stdout",
          "output_type": "stream",
          "text": [
            "Error: The file 'vikas ' does not exist.\n"
          ]
        }
      ],
      "source": [
        "import logging\n",
        "\n",
        "# Setup logging configuration\n",
        "logging.basicConfig(\n",
        "    filename='file_errors.log',\n",
        "    level=logging.ERROR,\n",
        "    format='%(asctime)s - %(levelname)s - %(message)s'\n",
        ")\n",
        "\n",
        "def read_file(filename):\n",
        "    try:\n",
        "        with open(filename, \"r\") as file:\n",
        "            content = file.read()\n",
        "            print(\"File content:\\n\", content)\n",
        "    except FileNotFoundError as e:\n",
        "        logging.error(f\"FileNotFoundError: {e}\")\n",
        "        print(f\"Error: The file '{filename}' does not exist.\")\n",
        "    except PermissionError as e:\n",
        "        logging.error(f\"PermissionError: {e}\")\n",
        "        print(f\"Error: You don't have permission to read '{filename}'.\")\n",
        "    except Exception as e:\n",
        "        logging.error(f\"Unexpected error: {e}\")\n",
        "        print(f\"An unexpected error occurred: {e}\")\n",
        "\n",
        "# Example usage\n",
        "file_name = input(\"Enter the file name to read: \")\n",
        "read_file(file_name)\n"
      ]
    }
  ],
  "metadata": {
    "colab": {
      "provenance": []
    },
    "kernelspec": {
      "display_name": "Python 3",
      "name": "python3"
    },
    "language_info": {
      "name": "python"
    }
  },
  "nbformat": 4,
  "nbformat_minor": 0
}
